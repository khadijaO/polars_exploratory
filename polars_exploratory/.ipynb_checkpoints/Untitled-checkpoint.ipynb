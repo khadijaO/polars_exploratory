{
 "cells": [
  {
   "cell_type": "code",
   "execution_count": 2,
   "id": "e8784fcf",
   "metadata": {},
   "outputs": [],
   "source": [
    "import polars as pl\n",
    "\n"
   ]
  },
  {
   "cell_type": "code",
   "execution_count": 3,
   "id": "d61d4f85",
   "metadata": {},
   "outputs": [],
   "source": [
    "\n",
    "df = pl.read_csv(\"data/bank_transactions.csv\")\n"
   ]
  },
  {
   "cell_type": "code",
   "execution_count": 4,
   "id": "050d6122",
   "metadata": {},
   "outputs": [
    {
     "data": {
      "text/html": [
       "<div><style>\n",
       ".dataframe > thead > tr > th,\n",
       ".dataframe > tbody > tr > td {\n",
       "  text-align: right;\n",
       "}\n",
       "</style>\n",
       "<small>shape: (10, 9)</small><table border=\"1\" class=\"dataframe\"><thead><tr><th>TransactionID</th><th>CustomerID</th><th>CustomerDOB</th><th>CustGender</th><th>CustLocation</th><th>CustAccountBalance</th><th>TransactionDate</th><th>TransactionTime</th><th>TransactionAmount (INR)</th></tr><tr><td>str</td><td>str</td><td>str</td><td>str</td><td>str</td><td>f64</td><td>str</td><td>i64</td><td>f64</td></tr></thead><tbody><tr><td>&quot;T1&quot;</td><td>&quot;C5841053&quot;</td><td>&quot;10/1/94&quot;</td><td>&quot;F&quot;</td><td>&quot;JAMSHEDPUR&quot;</td><td>17819.05</td><td>&quot;2/8/16&quot;</td><td>143207</td><td>25.0</td></tr><tr><td>&quot;T2&quot;</td><td>&quot;C2142763&quot;</td><td>&quot;4/4/57&quot;</td><td>&quot;M&quot;</td><td>&quot;JHAJJAR&quot;</td><td>2270.69</td><td>&quot;2/8/16&quot;</td><td>141858</td><td>27999.0</td></tr><tr><td>&quot;T3&quot;</td><td>&quot;C4417068&quot;</td><td>&quot;26/11/96&quot;</td><td>&quot;F&quot;</td><td>&quot;MUMBAI&quot;</td><td>17874.44</td><td>&quot;2/8/16&quot;</td><td>142712</td><td>459.0</td></tr><tr><td>&quot;T4&quot;</td><td>&quot;C5342380&quot;</td><td>&quot;14/9/73&quot;</td><td>&quot;F&quot;</td><td>&quot;MUMBAI&quot;</td><td>866503.21</td><td>&quot;2/8/16&quot;</td><td>142714</td><td>2060.0</td></tr><tr><td>&quot;T5&quot;</td><td>&quot;C9031234&quot;</td><td>&quot;24/3/88&quot;</td><td>&quot;F&quot;</td><td>&quot;NAVI MUMBAI&quot;</td><td>6714.43</td><td>&quot;2/8/16&quot;</td><td>181156</td><td>1762.5</td></tr><tr><td>&quot;T6&quot;</td><td>&quot;C1536588&quot;</td><td>&quot;8/10/72&quot;</td><td>&quot;F&quot;</td><td>&quot;ITANAGAR&quot;</td><td>53609.2</td><td>&quot;2/8/16&quot;</td><td>173940</td><td>676.0</td></tr><tr><td>&quot;T7&quot;</td><td>&quot;C7126560&quot;</td><td>&quot;26/1/92&quot;</td><td>&quot;F&quot;</td><td>&quot;MUMBAI&quot;</td><td>973.46</td><td>&quot;2/8/16&quot;</td><td>173806</td><td>566.0</td></tr><tr><td>&quot;T8&quot;</td><td>&quot;C1220223&quot;</td><td>&quot;27/1/82&quot;</td><td>&quot;M&quot;</td><td>&quot;MUMBAI&quot;</td><td>95075.54</td><td>&quot;2/8/16&quot;</td><td>170537</td><td>148.0</td></tr><tr><td>&quot;T9&quot;</td><td>&quot;C8536061&quot;</td><td>&quot;19/4/88&quot;</td><td>&quot;F&quot;</td><td>&quot;GURGAON&quot;</td><td>14906.96</td><td>&quot;2/8/16&quot;</td><td>192825</td><td>833.0</td></tr><tr><td>&quot;T10&quot;</td><td>&quot;C6638934&quot;</td><td>&quot;22/6/84&quot;</td><td>&quot;M&quot;</td><td>&quot;MUMBAI&quot;</td><td>4279.22</td><td>&quot;2/8/16&quot;</td><td>192446</td><td>289.11</td></tr></tbody></table></div>"
      ],
      "text/plain": [
       "shape: (10, 9)\n",
       "┌────────────┬────────────┬─────────────┬────────────┬─────┬──────────────┬──────────────┬──────────────┬──────────────┐\n",
       "│ Transactio ┆ CustomerID ┆ CustomerDOB ┆ CustGender ┆ ... ┆ CustAccountB ┆ TransactionD ┆ TransactionT ┆ TransactionA │\n",
       "│ nID        ┆ ---        ┆ ---         ┆ ---        ┆     ┆ alance       ┆ ate          ┆ ime          ┆ mount (INR)  │\n",
       "│ ---        ┆ str        ┆ str         ┆ str        ┆     ┆ ---          ┆ ---          ┆ ---          ┆ ---          │\n",
       "│ str        ┆            ┆             ┆            ┆     ┆ f64          ┆ str          ┆ i64          ┆ f64          │\n",
       "╞════════════╪════════════╪═════════════╪════════════╪═════╪══════════════╪══════════════╪══════════════╪══════════════╡\n",
       "│ T1         ┆ C5841053   ┆ 10/1/94     ┆ F          ┆ ... ┆ 17819.05     ┆ 2/8/16       ┆ 143207       ┆ 25.0         │\n",
       "│ T2         ┆ C2142763   ┆ 4/4/57      ┆ M          ┆ ... ┆ 2270.69      ┆ 2/8/16       ┆ 141858       ┆ 27999.0      │\n",
       "│ T3         ┆ C4417068   ┆ 26/11/96    ┆ F          ┆ ... ┆ 17874.44     ┆ 2/8/16       ┆ 142712       ┆ 459.0        │\n",
       "│ T4         ┆ C5342380   ┆ 14/9/73     ┆ F          ┆ ... ┆ 866503.21    ┆ 2/8/16       ┆ 142714       ┆ 2060.0       │\n",
       "│ ...        ┆ ...        ┆ ...         ┆ ...        ┆ ... ┆ ...          ┆ ...          ┆ ...          ┆ ...          │\n",
       "│ T7         ┆ C7126560   ┆ 26/1/92     ┆ F          ┆ ... ┆ 973.46       ┆ 2/8/16       ┆ 173806       ┆ 566.0        │\n",
       "│ T8         ┆ C1220223   ┆ 27/1/82     ┆ M          ┆ ... ┆ 95075.54     ┆ 2/8/16       ┆ 170537       ┆ 148.0        │\n",
       "│ T9         ┆ C8536061   ┆ 19/4/88     ┆ F          ┆ ... ┆ 14906.96     ┆ 2/8/16       ┆ 192825       ┆ 833.0        │\n",
       "│ T10        ┆ C6638934   ┆ 22/6/84     ┆ M          ┆ ... ┆ 4279.22      ┆ 2/8/16       ┆ 192446       ┆ 289.11       │\n",
       "└────────────┴────────────┴─────────────┴────────────┴─────┴──────────────┴──────────────┴──────────────┴──────────────┘"
      ]
     },
     "execution_count": 4,
     "metadata": {},
     "output_type": "execute_result"
    }
   ],
   "source": [
    "df.head(10)"
   ]
  },
  {
   "cell_type": "code",
   "execution_count": 3,
   "id": "4318555f",
   "metadata": {},
   "outputs": [
    {
     "data": {
      "text/plain": [
       "Index(['TransactionID', 'CustomerID', 'CustomerDOB', 'CustGender',\n",
       "       'CustLocation', 'CustAccountBalance', 'TransactionDate',\n",
       "       'TransactionTime', 'TransactionAmount (INR)'],\n",
       "      dtype='object')"
      ]
     },
     "execution_count": 3,
     "metadata": {},
     "output_type": "execute_result"
    }
   ],
   "source": [
    "df.columns"
   ]
  },
  {
   "cell_type": "code",
   "execution_count": 4,
   "id": "64dd2c99",
   "metadata": {},
   "outputs": [
    {
     "data": {
      "text/plain": [
       "(1048567, 9)"
      ]
     },
     "execution_count": 4,
     "metadata": {},
     "output_type": "execute_result"
    }
   ],
   "source": [
    "df.shape"
   ]
  }
 ],
 "metadata": {
  "kernelspec": {
   "display_name": "Python 3 (ipykernel)",
   "language": "python",
   "name": "python3"
  },
  "language_info": {
   "codemirror_mode": {
    "name": "ipython",
    "version": 3
   },
   "file_extension": ".py",
   "mimetype": "text/x-python",
   "name": "python",
   "nbconvert_exporter": "python",
   "pygments_lexer": "ipython3",
   "version": "3.9.13"
  }
 },
 "nbformat": 4,
 "nbformat_minor": 5
}
