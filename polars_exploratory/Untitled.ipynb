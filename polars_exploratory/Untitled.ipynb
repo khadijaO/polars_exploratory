{
 "cells": [
  {
   "cell_type": "code",
   "execution_count": 2,
   "id": "e8784fcf",
   "metadata": {},
   "outputs": [],
   "source": [
    "import polars as pl\n",
    "\n"
   ]
  },
  {
   "cell_type": "code",
   "execution_count": 3,
   "id": "d61d4f85",
   "metadata": {},
   "outputs": [],
   "source": [
    "\n",
    "df = pl.read_csv(\"data/bank_transactions.csv\")\n"
   ]
  },
  {
   "cell_type": "code",
   "execution_count": 13,
   "id": "9b4b20ed",
   "metadata": {},
   "outputs": [
    {
     "data": {
      "text/plain": [
       "(1048567, 9)"
      ]
     },
     "execution_count": 13,
     "metadata": {},
     "output_type": "execute_result"
    }
   ],
   "source": [
    "df.shape\n"
   ]
  },
  {
   "cell_type": "code",
   "execution_count": 14,
   "id": "83160487",
   "metadata": {},
   "outputs": [
    {
     "data": {
      "text/html": [
       "<div><style>\n",
       ".dataframe > thead > tr > th,\n",
       ".dataframe > tbody > tr > td {\n",
       "  text-align: right;\n",
       "}\n",
       "</style>\n",
       "<small>shape: (5, 9)</small><table border=\"1\" class=\"dataframe\"><thead><tr><th>TransactionID</th><th>CustomerID</th><th>CustomerDOB</th><th>CustGender</th><th>CustLocation</th><th>CustAccountBalance</th><th>TransactionDate</th><th>TransactionTime</th><th>TransactionAmount (INR)</th></tr><tr><td>str</td><td>str</td><td>str</td><td>str</td><td>str</td><td>f64</td><td>str</td><td>i64</td><td>f64</td></tr></thead><tbody><tr><td>&quot;T1&quot;</td><td>&quot;C5841053&quot;</td><td>&quot;10/1/94&quot;</td><td>&quot;F&quot;</td><td>&quot;JAMSHEDPUR&quot;</td><td>17819.05</td><td>&quot;2/8/16&quot;</td><td>143207</td><td>25.0</td></tr><tr><td>&quot;T2&quot;</td><td>&quot;C2142763&quot;</td><td>&quot;4/4/57&quot;</td><td>&quot;M&quot;</td><td>&quot;JHAJJAR&quot;</td><td>2270.69</td><td>&quot;2/8/16&quot;</td><td>141858</td><td>27999.0</td></tr><tr><td>&quot;T3&quot;</td><td>&quot;C4417068&quot;</td><td>&quot;26/11/96&quot;</td><td>&quot;F&quot;</td><td>&quot;MUMBAI&quot;</td><td>17874.44</td><td>&quot;2/8/16&quot;</td><td>142712</td><td>459.0</td></tr><tr><td>&quot;T4&quot;</td><td>&quot;C5342380&quot;</td><td>&quot;14/9/73&quot;</td><td>&quot;F&quot;</td><td>&quot;MUMBAI&quot;</td><td>866503.21</td><td>&quot;2/8/16&quot;</td><td>142714</td><td>2060.0</td></tr><tr><td>&quot;T5&quot;</td><td>&quot;C9031234&quot;</td><td>&quot;24/3/88&quot;</td><td>&quot;F&quot;</td><td>&quot;NAVI MUMBAI&quot;</td><td>6714.43</td><td>&quot;2/8/16&quot;</td><td>181156</td><td>1762.5</td></tr></tbody></table></div>"
      ],
      "text/plain": [
       "shape: (5, 9)\n",
       "┌────────────┬────────────┬─────────────┬────────────┬─────┬──────────────┬──────────────┬──────────────┬──────────────┐\n",
       "│ Transactio ┆ CustomerID ┆ CustomerDOB ┆ CustGender ┆ ... ┆ CustAccountB ┆ TransactionD ┆ TransactionT ┆ TransactionA │\n",
       "│ nID        ┆ ---        ┆ ---         ┆ ---        ┆     ┆ alance       ┆ ate          ┆ ime          ┆ mount (INR)  │\n",
       "│ ---        ┆ str        ┆ str         ┆ str        ┆     ┆ ---          ┆ ---          ┆ ---          ┆ ---          │\n",
       "│ str        ┆            ┆             ┆            ┆     ┆ f64          ┆ str          ┆ i64          ┆ f64          │\n",
       "╞════════════╪════════════╪═════════════╪════════════╪═════╪══════════════╪══════════════╪══════════════╪══════════════╡\n",
       "│ T1         ┆ C5841053   ┆ 10/1/94     ┆ F          ┆ ... ┆ 17819.05     ┆ 2/8/16       ┆ 143207       ┆ 25.0         │\n",
       "│ T2         ┆ C2142763   ┆ 4/4/57      ┆ M          ┆ ... ┆ 2270.69      ┆ 2/8/16       ┆ 141858       ┆ 27999.0      │\n",
       "│ T3         ┆ C4417068   ┆ 26/11/96    ┆ F          ┆ ... ┆ 17874.44     ┆ 2/8/16       ┆ 142712       ┆ 459.0        │\n",
       "│ T4         ┆ C5342380   ┆ 14/9/73     ┆ F          ┆ ... ┆ 866503.21    ┆ 2/8/16       ┆ 142714       ┆ 2060.0       │\n",
       "│ T5         ┆ C9031234   ┆ 24/3/88     ┆ F          ┆ ... ┆ 6714.43      ┆ 2/8/16       ┆ 181156       ┆ 1762.5       │\n",
       "└────────────┴────────────┴─────────────┴────────────┴─────┴──────────────┴──────────────┴──────────────┴──────────────┘"
      ]
     },
     "execution_count": 14,
     "metadata": {},
     "output_type": "execute_result"
    }
   ],
   "source": [
    "df.head()"
   ]
  },
  {
   "cell_type": "code",
   "execution_count": 10,
   "id": "4318555f",
   "metadata": {},
   "outputs": [
    {
     "data": {
      "text/plain": [
       "['TransactionID',\n",
       " 'CustomerID',\n",
       " 'CustomerDOB',\n",
       " 'CustGender',\n",
       " 'CustLocation',\n",
       " 'CustAccountBalance',\n",
       " 'TransactionDate',\n",
       " 'TransactionTime',\n",
       " 'TransactionAmount (INR)']"
      ]
     },
     "execution_count": 10,
     "metadata": {},
     "output_type": "execute_result"
    }
   ],
   "source": [
    "df.columns"
   ]
  },
  {
   "cell_type": "markdown",
   "id": "c73a183c",
   "metadata": {},
   "source": [
    "<h2  style=\"color:darkmagenta;text-align: center; background-color: AliceBlue;padding: 20px;\"> Data Cleaning</h2><a id = \"3\"></a>"
   ]
  },
  {
   "cell_type": "code",
   "execution_count": 11,
   "id": "64dd2c99",
   "metadata": {},
   "outputs": [
    {
     "data": {
      "text/html": [
       "<div><style>\n",
       ".dataframe > thead > tr > th,\n",
       ".dataframe > tbody > tr > td {\n",
       "  text-align: right;\n",
       "}\n",
       "</style>\n",
       "<small>shape: (7, 10)</small><table border=\"1\" class=\"dataframe\"><thead><tr><th>describe</th><th>TransactionID</th><th>CustomerID</th><th>CustomerDOB</th><th>CustGender</th><th>CustLocation</th><th>CustAccountBalance</th><th>TransactionDate</th><th>TransactionTime</th><th>TransactionAmount (INR)</th></tr><tr><td>str</td><td>str</td><td>str</td><td>str</td><td>str</td><td>str</td><td>f64</td><td>str</td><td>f64</td><td>f64</td></tr></thead><tbody><tr><td>&quot;count&quot;</td><td>&quot;1048567&quot;</td><td>&quot;1048567&quot;</td><td>&quot;1048567&quot;</td><td>&quot;1048567&quot;</td><td>&quot;1048567&quot;</td><td>1.048567e6</td><td>&quot;1048567&quot;</td><td>1.048567e6</td><td>1.048567e6</td></tr><tr><td>&quot;null_count&quot;</td><td>&quot;0&quot;</td><td>&quot;0&quot;</td><td>&quot;0&quot;</td><td>&quot;1100&quot;</td><td>&quot;151&quot;</td><td>2369.0</td><td>&quot;0&quot;</td><td>0.0</td><td>0.0</td></tr><tr><td>&quot;mean&quot;</td><td>null</td><td>null</td><td>null</td><td>null</td><td>null</td><td>115403.540056</td><td>null</td><td>157087.529393</td><td>1574.335003</td></tr><tr><td>&quot;std&quot;</td><td>null</td><td>null</td><td>null</td><td>null</td><td>null</td><td>846485.380601</td><td>null</td><td>51261.854022</td><td>6574.742978</td></tr><tr><td>&quot;min&quot;</td><td>&quot;T1&quot;</td><td>&quot;C1010011&quot;</td><td>&quot;1/1/00&quot;</td><td>&quot;F&quot;</td><td>&quot;(154) BHASKOLA...</td><td>0.0</td><td>&quot;1/8/16&quot;</td><td>0.0</td><td>0.0</td></tr><tr><td>&quot;max&quot;</td><td>&quot;T999999&quot;</td><td>&quot;C9099956&quot;</td><td>&quot;nan&quot;</td><td>&quot;T&quot;</td><td>&quot;ZUNHEBOTO&quot;</td><td>1.1504e8</td><td>&quot;9/9/16&quot;</td><td>235959.0</td><td>1.5600e6</td></tr><tr><td>&quot;median&quot;</td><td>null</td><td>null</td><td>null</td><td>null</td><td>null</td><td>16792.18</td><td>null</td><td>164226.0</td><td>459.03</td></tr></tbody></table></div>"
      ],
      "text/plain": [
       "shape: (7, 10)\n",
       "┌────────────┬────────────┬────────────┬─────────────┬─────┬──────────────┬──────────────┬──────────────┬──────────────┐\n",
       "│ describe   ┆ Transactio ┆ CustomerID ┆ CustomerDOB ┆ ... ┆ CustAccountB ┆ TransactionD ┆ TransactionT ┆ TransactionA │\n",
       "│ ---        ┆ nID        ┆ ---        ┆ ---         ┆     ┆ alance       ┆ ate          ┆ ime          ┆ mount (INR)  │\n",
       "│ str        ┆ ---        ┆ str        ┆ str         ┆     ┆ ---          ┆ ---          ┆ ---          ┆ ---          │\n",
       "│            ┆ str        ┆            ┆             ┆     ┆ f64          ┆ str          ┆ f64          ┆ f64          │\n",
       "╞════════════╪════════════╪════════════╪═════════════╪═════╪══════════════╪══════════════╪══════════════╪══════════════╡\n",
       "│ count      ┆ 1048567    ┆ 1048567    ┆ 1048567     ┆ ... ┆ 1.048567e6   ┆ 1048567      ┆ 1.048567e6   ┆ 1.048567e6   │\n",
       "│ null_count ┆ 0          ┆ 0          ┆ 0           ┆ ... ┆ 2369.0       ┆ 0            ┆ 0.0          ┆ 0.0          │\n",
       "│ mean       ┆ null       ┆ null       ┆ null        ┆ ... ┆ 115403.54005 ┆ null         ┆ 157087.52939 ┆ 1574.335003  │\n",
       "│            ┆            ┆            ┆             ┆     ┆ 6            ┆              ┆ 3            ┆              │\n",
       "│ std        ┆ null       ┆ null       ┆ null        ┆ ... ┆ 846485.38060 ┆ null         ┆ 51261.854022 ┆ 6574.742978  │\n",
       "│            ┆            ┆            ┆             ┆     ┆ 1            ┆              ┆              ┆              │\n",
       "│ min        ┆ T1         ┆ C1010011   ┆ 1/1/00      ┆ ... ┆ 0.0          ┆ 1/8/16       ┆ 0.0          ┆ 0.0          │\n",
       "│ max        ┆ T999999    ┆ C9099956   ┆ nan         ┆ ... ┆ 1.1504e8     ┆ 9/9/16       ┆ 235959.0     ┆ 1.5600e6     │\n",
       "│ median     ┆ null       ┆ null       ┆ null        ┆ ... ┆ 16792.18     ┆ null         ┆ 164226.0     ┆ 459.03       │\n",
       "└────────────┴────────────┴────────────┴─────────────┴─────┴──────────────┴──────────────┴──────────────┴──────────────┘"
      ]
     },
     "execution_count": 11,
     "metadata": {},
     "output_type": "execute_result"
    }
   ],
   "source": [
    "df.describe()"
   ]
  },
  {
   "cell_type": "code",
   "execution_count": 12,
   "id": "ef6efc73",
   "metadata": {
    "collapsed": true
   },
   "outputs": [
    {
     "data": {
      "text/html": [
       "<div><style>\n",
       ".dataframe > thead > tr > th,\n",
       ".dataframe > tbody > tr > td {\n",
       "  text-align: right;\n",
       "}\n",
       "</style>\n",
       "<small>shape: (1048567,)</small><table border=\"1\" class=\"dataframe\"><thead><tr><th></th></tr><tr><td>bool</td></tr></thead><tbody><tr><td>false</td></tr><tr><td>false</td></tr><tr><td>false</td></tr><tr><td>false</td></tr><tr><td>false</td></tr><tr><td>false</td></tr><tr><td>false</td></tr><tr><td>false</td></tr><tr><td>false</td></tr><tr><td>false</td></tr><tr><td>false</td></tr><tr><td>false</td></tr><tr><td>...</td></tr><tr><td>false</td></tr><tr><td>false</td></tr><tr><td>false</td></tr><tr><td>false</td></tr><tr><td>false</td></tr><tr><td>false</td></tr><tr><td>false</td></tr><tr><td>false</td></tr><tr><td>false</td></tr><tr><td>false</td></tr><tr><td>false</td></tr><tr><td>false</td></tr></tbody></table></div>"
      ],
      "text/plain": [
       "shape: (1048567,)\n",
       "Series: '' [bool]\n",
       "[\n",
       "\tfalse\n",
       "\tfalse\n",
       "\tfalse\n",
       "\tfalse\n",
       "\tfalse\n",
       "\tfalse\n",
       "\tfalse\n",
       "\tfalse\n",
       "\tfalse\n",
       "\tfalse\n",
       "\tfalse\n",
       "\tfalse\n",
       "\t...\n",
       "\tfalse\n",
       "\tfalse\n",
       "\tfalse\n",
       "\tfalse\n",
       "\tfalse\n",
       "\tfalse\n",
       "\tfalse\n",
       "\tfalse\n",
       "\tfalse\n",
       "\tfalse\n",
       "\tfalse\n",
       "\tfalse\n",
       "\tfalse\n",
       "]"
      ]
     },
     "execution_count": 12,
     "metadata": {},
     "output_type": "execute_result"
    }
   ],
   "source": [
    "df.is_duplicated()"
   ]
  }
 ],
 "metadata": {
  "kernelspec": {
   "display_name": "Python 3 (ipykernel)",
   "language": "python",
   "name": "python3"
  },
  "language_info": {
   "codemirror_mode": {
    "name": "ipython",
    "version": 3
   },
   "file_extension": ".py",
   "mimetype": "text/x-python",
   "name": "python",
   "nbconvert_exporter": "python",
   "pygments_lexer": "ipython3",
   "version": "3.9.13"
  }
 },
 "nbformat": 4,
 "nbformat_minor": 5
}
